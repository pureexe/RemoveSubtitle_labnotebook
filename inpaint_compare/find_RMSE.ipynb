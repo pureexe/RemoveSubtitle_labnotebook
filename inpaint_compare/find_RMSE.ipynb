{
 "cells": [
  {
   "cell_type": "code",
   "execution_count": 10,
   "metadata": {},
   "outputs": [],
   "source": [
    "import numpy as np\n",
    "import cv2\n",
    "import matplotlib.pyplot as plt\n",
    "import pandas as pd"
   ]
  },
  {
   "cell_type": "code",
   "execution_count": 8,
   "metadata": {},
   "outputs": [],
   "source": [
    "file_method = ['2004','2012','2015','2017'] #version of algorithm that use\n",
    "file_language = ['chinese','english','japanese','thai']\n",
    "file_case = ['0'+str(x) for x in range(1,6)]"
   ]
  },
  {
   "cell_type": "code",
   "execution_count": 46,
   "metadata": {},
   "outputs": [],
   "source": [
    "dataframe = pd.DataFrame(columns=['method','language','case_file','RMSE'])"
   ]
  },
  {
   "cell_type": "code",
   "execution_count": 47,
   "metadata": {},
   "outputs": [
    {
     "name": "stdout",
     "output_type": "stream",
     "text": [
      "result/2004/chinese/01.png\n",
      "result/2004/english/01.png\n",
      "result/2004/japanese/01.png\n",
      "result/2004/thai/01.png\n",
      "result/2012/chinese/01.png\n",
      "result/2012/english/01.png\n",
      "result/2012/japanese/01.png\n",
      "result/2012/thai/01.png\n",
      "result/2015/chinese/01.png\n",
      "result/2015/english/01.png\n",
      "result/2015/japanese/01.png\n",
      "result/2015/thai/01.png\n",
      "result/2017/chinese/01.png\n",
      "result/2017/english/01.png\n",
      "result/2017/japanese/01.png\n",
      "result/2017/thai/01.png\n",
      "result/2004/chinese/02.png\n",
      "result/2004/english/02.png\n",
      "result/2004/japanese/02.png\n",
      "result/2004/thai/02.png\n",
      "result/2012/chinese/02.png\n",
      "result/2012/english/02.png\n",
      "result/2012/japanese/02.png\n",
      "result/2012/thai/02.png\n",
      "result/2015/chinese/02.png\n",
      "result/2015/english/02.png\n",
      "result/2015/japanese/02.png\n",
      "result/2015/thai/02.png\n",
      "result/2017/chinese/02.png\n",
      "result/2017/english/02.png\n",
      "result/2017/japanese/02.png\n",
      "result/2017/thai/02.png\n",
      "result/2004/chinese/03.png\n",
      "result/2004/english/03.png\n",
      "result/2004/japanese/03.png\n",
      "result/2004/thai/03.png\n",
      "result/2012/chinese/03.png\n",
      "result/2012/english/03.png\n",
      "result/2012/japanese/03.png\n",
      "result/2012/thai/03.png\n",
      "result/2015/chinese/03.png\n",
      "result/2015/english/03.png\n",
      "result/2015/japanese/03.png\n",
      "result/2015/thai/03.png\n",
      "result/2017/chinese/03.png\n",
      "result/2017/english/03.png\n",
      "result/2017/japanese/03.png\n",
      "result/2017/thai/03.png\n",
      "result/2004/chinese/04.png\n",
      "result/2004/english/04.png\n",
      "result/2004/japanese/04.png\n",
      "result/2004/thai/04.png\n",
      "result/2012/chinese/04.png\n",
      "result/2012/english/04.png\n",
      "result/2012/japanese/04.png\n",
      "result/2012/thai/04.png\n",
      "result/2015/chinese/04.png\n",
      "result/2015/english/04.png\n",
      "result/2015/japanese/04.png\n",
      "result/2015/thai/04.png\n",
      "result/2017/chinese/04.png\n",
      "result/2017/english/04.png\n",
      "result/2017/japanese/04.png\n",
      "result/2017/thai/04.png\n",
      "result/2004/chinese/05.png\n",
      "result/2004/english/05.png\n",
      "result/2004/japanese/05.png\n",
      "result/2004/thai/05.png\n",
      "result/2012/chinese/05.png\n",
      "result/2012/english/05.png\n",
      "result/2012/japanese/05.png\n",
      "result/2012/thai/05.png\n",
      "result/2015/chinese/05.png\n",
      "result/2015/english/05.png\n",
      "result/2015/japanese/05.png\n",
      "result/2015/thai/05.png\n",
      "result/2017/chinese/05.png\n",
      "result/2017/english/05.png\n",
      "result/2017/japanese/05.png\n",
      "result/2017/thai/05.png\n"
     ]
    }
   ],
   "source": [
    "for current_case in file_case:\n",
    "    original_image = cv2.imread('original/'+current_case+'.png')\n",
    "    original_image = np.asarray(original_image).flatten()\n",
    "    for current_method in file_method:\n",
    "        for current_language in file_language:\n",
    "            print('result/'+current_method+'/'+current_language+'/'+current_case+'.png')\n",
    "            current_image = cv2.imread('result/'+current_method+'/'+current_language+'/'+current_case+'.png')\n",
    "            current_image = np.asarray(current_image).flatten()\n",
    "            RMSE = np.sqrt(np.mean(np.square(original_image-current_image)))\n",
    "            dataframe = dataframe.append({'method':current_method,'language':current_language,'case_file':current_case,'RMSE':RMSE},ignore_index=True)"
   ]
  },
  {
   "cell_type": "code",
   "execution_count": 48,
   "metadata": {},
   "outputs": [],
   "source": [
    "dataframe.to_csv(\"RMSE.csv\")"
   ]
  },
  {
   "cell_type": "code",
   "execution_count": null,
   "metadata": {},
   "outputs": [],
   "source": []
  },
  {
   "cell_type": "code",
   "execution_count": 23,
   "metadata": {},
   "outputs": [
    {
     "data": {
      "text/html": [
       "<div>\n",
       "<style scoped>\n",
       "    .dataframe tbody tr th:only-of-type {\n",
       "        vertical-align: middle;\n",
       "    }\n",
       "\n",
       "    .dataframe tbody tr th {\n",
       "        vertical-align: top;\n",
       "    }\n",
       "\n",
       "    .dataframe thead th {\n",
       "        text-align: right;\n",
       "    }\n",
       "</style>\n",
       "<table border=\"1\" class=\"dataframe\">\n",
       "  <thead>\n",
       "    <tr style=\"text-align: right;\">\n",
       "      <th></th>\n",
       "      <th>method</th>\n",
       "      <th>language</th>\n",
       "      <th>case_file</th>\n",
       "      <th>RMSE</th>\n",
       "    </tr>\n",
       "  </thead>\n",
       "  <tbody>\n",
       "    <tr>\n",
       "      <th>0</th>\n",
       "      <td>1</td>\n",
       "      <td>2</td>\n",
       "      <td>3</td>\n",
       "      <td>4</td>\n",
       "    </tr>\n",
       "    <tr>\n",
       "      <th>1</th>\n",
       "      <td>1</td>\n",
       "      <td>2</td>\n",
       "      <td>3</td>\n",
       "      <td>4</td>\n",
       "    </tr>\n",
       "  </tbody>\n",
       "</table>\n",
       "</div>"
      ],
      "text/plain": [
       "  method language case_file RMSE\n",
       "0      1        2         3    4\n",
       "1      1        2         3    4"
      ]
     },
     "execution_count": 23,
     "metadata": {},
     "output_type": "execute_result"
    }
   ],
   "source": [
    "dataframe.append({'method':1,'language':2,'case_file':3,'RMSE':4},ignore_index=True)"
   ]
  },
  {
   "cell_type": "code",
   "execution_count": null,
   "metadata": {},
   "outputs": [],
   "source": []
  }
 ],
 "metadata": {
  "kernelspec": {
   "display_name": "Python 3",
   "language": "python",
   "name": "python3"
  },
  "language_info": {
   "codemirror_mode": {
    "name": "ipython",
    "version": 3
   },
   "file_extension": ".py",
   "mimetype": "text/x-python",
   "name": "python",
   "nbconvert_exporter": "python",
   "pygments_lexer": "ipython3",
   "version": "3.6.2"
  }
 },
 "nbformat": 4,
 "nbformat_minor": 2
}
